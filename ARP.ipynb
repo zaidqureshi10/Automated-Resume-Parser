{
 "cells": [
  {
   "cell_type": "code",
   "execution_count": null,
   "metadata": {},
   "outputs": [],
   "source": [
    "import spacy #nlp\n",
    "import re #regex\n",
    "import os #file manip\n",
    "import pandas as pd #csv - tabular\n",
    "import sqlite3\n",
    "import pdf2txt\n",
    "import shutil\n",
    "from tkinter import *\n",
    "from tkinter import filedialog"
   ]
  },
  {
   "cell_type": "code",
   "execution_count": null,
   "metadata": {},
   "outputs": [],
   "source": [
    "count=0 #if count 0 then don't create txt folder and csv folder + file\n",
    "#if no files in pdf (i.e. count==0), print no files in pdf"
   ]
  },
  {
   "cell_type": "code",
   "execution_count": null,
   "metadata": {},
   "outputs": [],
   "source": [
    "\n",
    "root = Tk() # pointing root to Tk() to use it as Tk() in program.\n",
    "root.withdraw() # Hides small tkinter window.\n",
    "\n",
    "root.attributes('-topmost', True) # Opened windows will be active. above all windows despite of selection.\n",
    "file_dir = filedialog.askdirectory()\n",
    "txtpath = file_dir + '/output/txt/' #txtpath will be deleted later"
   ]
  },
  {
   "cell_type": "code",
   "execution_count": null,
   "metadata": {},
   "outputs": [],
   "source": [
    "# connecting to db\n",
    "conn = sqlite3.connect('persisting_database')\n",
    "c = conn.cursor()\n",
    "\n",
    "c.execute('CREATE TABLE IF NOT EXISTS candidates (candidate_name text, phone number, candidate_email text, candidate_skill text)')\n",
    "conn.commit()"
   ]
  },
  {
   "cell_type": "code",
   "execution_count": null,
   "metadata": {},
   "outputs": [],
   "source": [
    "def convert_pdf(f):\n",
    "\n",
    "    output_filename = os.path.basename(os.path.splitext(f)[0]) + \".txt\" #Split filename and add .pdf\n",
    "\n",
    "    newpath = file_dir + '/output/txt/' #same statement as above, but txtpath would be deleted\n",
    "    if not os.path.exists(newpath):\n",
    "        os.makedirs(newpath)    \n",
    "\n",
    "\n",
    "    output_filepath = os.path.join(newpath, output_filename) #location for saving txt files\n",
    "    pdf2txt.main(args=[f, \"--outfile\", output_filepath]) #pdf to txt and save it in the given location\n",
    "    print(output_filepath + \" saved successfully!!!\")  #print the message\n",
    "    return open(output_filepath, encoding=\"utf8\").read() #read the file, encoding utf8 cuz giving error \n",
    " #                                              #without specifying encoding while converting some pdf files "
   ]
  },
  {
   "cell_type": "code",
   "execution_count": null,
   "metadata": {},
   "outputs": [],
   "source": [
    "nlp = spacy.load(\"en_core_web_sm\")  # load the language model"
   ]
  },
  {
   "cell_type": "code",
   "execution_count": null,
   "metadata": {},
   "outputs": [],
   "source": [
    "result_dict = {'name': [], 'phone': [], 'email': [], 'skills': []}  #creaing the dictionary\n",
    "names = []  #list for storing respective values\n",
    "phones = []\n",
    "emails = []\n",
    "skills = []"
   ]
  },
  {
   "cell_type": "code",
   "execution_count": null,
   "metadata": {},
   "outputs": [],
   "source": [
    "def parse_content(text):  #takes 1 arg\n",
    "    skillset = re.compile(\"python|java|sql|aws|c|linux|mysql\") #skills we want to extract, you can type anything\n",
    "    phone_num = re.compile(\n",
    "        \"(\\d{12}|\\d{7}[-]??\\d{5}|\\d{13}|\\d{10}|\\d{5}[-]??\\d{5})\"  #indian phone numbers' possible combinations\n",
    "    ) #number we want to extract\n",
    "    doc = nlp(text) #annotate the text using nlp\n",
    "    name = [entity.text for entity in doc.ents if entity.label_ is \"PERSON\"][0]  #extracting 1st name\n",
    "    print(name)\n",
    "    email = [word for word in doc if word.like_email == True][0]   #extracting 1st email\n",
    "    print(email)\n",
    "    phone = str(re.findall(phone_num, text.lower()))  #convert text to lower case and find all\n",
    "    skills_list = re.findall(skillset, text.lower())  \n",
    "    unique_skills_list = str(set(skills_list))  #we want unique skills list, convert to set\n",
    "    names.append(name)  #place the values in the above lists\n",
    "    emails.append(email)\n",
    "    phones.append(phone)\n",
    "    skills.append(unique_skills_list)\n",
    "    print(\"Extraction completed successfully!!!\")"
   ]
  },
  {
   "cell_type": "code",
   "execution_count": null,
   "metadata": {},
   "outputs": [],
   "source": [
    "for file in os.listdir(file_dir):  #list all files and go through them all\n",
    "    if file.endswith('.pdf'):  #only works with pdf so check that\n",
    "        print('Reading.....' + file)\n",
    "        txt = convert_pdf(os.path.join(file_dir, file)) #calling the function #assigning convert_pdf output to txt\n",
    "        parse_content(txt) #then pass the txt to parse_content\n",
    "        count+=1 #for every pdf converted, count+1\n",
    "    elif(count==0): \n",
    "        print('Files are not in pdf format')\n",
    "        continue"
   ]
  },
  {
   "cell_type": "code",
   "execution_count": null,
   "metadata": {},
   "outputs": [],
   "source": [
    "result_dict['name'] = names #assigning the values of list to dict\n",
    "result_dict['phone'] = phones\n",
    "result_dict['email'] = emails\n",
    "result_dict['skills'] = skills"
   ]
  },
  {
   "cell_type": "code",
   "execution_count": null,
   "metadata": {
    "scrolled": true
   },
   "outputs": [],
   "source": [
    "result_df = pd.DataFrame(result_dict) #convert into tabular format using df \n",
    "\n",
    "#DELETE TXT FOLDER AFTER PROGRAM IS FINISHED\n",
    "try:    \n",
    "    shutil.rmtree(txtpath)\n",
    "except OSError as e:\n",
    "    print (\"Error: %s - %s.\" % (e.filename, e.strerror))"
   ]
  },
  {
   "cell_type": "code",
   "execution_count": null,
   "metadata": {},
   "outputs": [],
   "source": [
    "if count>0:\n",
    "    newcsvpath = file_dir + '/output/csv/' \n",
    "    if not os.path.exists(newcsvpath):\n",
    "        os.makedirs(newcsvpath)   \n",
    "    csvname = newcsvpath + 'parsed_resumes.csv'\n",
    "    result_df.to_csv(csvname)\n",
    "    os.startfile(csvname)\n",
    "\n",
    "    "
   ]
  },
  {
   "cell_type": "code",
   "execution_count": null,
   "metadata": {},
   "outputs": [],
   "source": [
    "#converting datatype\n",
    "result_df['email']= result_df['email'].astype('str')\n",
    "\n",
    "#feeding values to database\n",
    "result_df.to_sql('candidates', conn, if_exists='append', index = False)\n",
    "\n",
    "#deleting duplicates\n",
    "c.execute('''DELETE FROM candidates \n",
    "   WHERE  rowid NOT IN ( \n",
    "      SELECT min(rowid) \n",
    "      FROM   candidates \n",
    "      GROUP  BY name, phone);''') \n",
    "\n",
    "result_dfdb = pd.DataFrame(c.execute('''  \n",
    "   SELECT * FROM candidates\n",
    "             '''))   \n",
    "result_dfdb\n",
    "\n",
    "#Made by Zaid Qureshi with Coffee & Love"
   ]
  }
 ],
 "metadata": {
  "interpreter": {
   "hash": "d9bb5c0cb3c2a980ae278938a6309c56401faf2840fdac627754f2af8fcf7bda"
  },
  "kernelspec": {
   "display_name": "Python 3.9.7 64-bit",
   "name": "python3"
  },
  "language_info": {
   "codemirror_mode": {
    "name": "ipython",
    "version": 3
   },
   "file_extension": ".py",
   "mimetype": "text/x-python",
   "name": "python",
   "nbconvert_exporter": "python",
   "pygments_lexer": "ipython3",
   "version": "3.9.7"
  }
 },
 "nbformat": 4,
 "nbformat_minor": 2
}
